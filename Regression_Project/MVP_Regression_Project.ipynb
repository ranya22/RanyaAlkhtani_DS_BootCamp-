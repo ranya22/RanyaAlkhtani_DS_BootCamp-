{
  "nbformat": 4,
  "nbformat_minor": 0,
  "metadata": {
    "colab": {
      "name": "MVP_Regression_Project.ipynb",
      "provenance": []
    },
    "kernelspec": {
      "name": "python3",
      "display_name": "Python 3"
    },
    "language_info": {
      "name": "python"
    }
  },
  "cells": [
    {
      "cell_type": "markdown",
      "metadata": {
        "id": "oaEIkXeIrwtg"
      },
      "source": [
        "# Import Needed Libraries"
      ]
    },
    {
      "cell_type": "code",
      "metadata": {
        "colab": {
          "base_uri": "https://localhost:8080/"
        },
        "id": "htkNylbqqwv7",
        "outputId": "8ce890ab-c48e-45cb-e5b2-201609666407"
      },
      "source": [
        "!pip install sklearn\n",
        "!pip install matplotlib\n",
        "!pip install seaborn"
      ],
      "execution_count": 1,
      "outputs": [
        {
          "output_type": "stream",
          "name": "stdout",
          "text": [
            "Requirement already satisfied: sklearn in /usr/local/lib/python3.7/dist-packages (0.0)\n",
            "Requirement already satisfied: scikit-learn in /usr/local/lib/python3.7/dist-packages (from sklearn) (0.22.2.post1)\n",
            "Requirement already satisfied: joblib>=0.11 in /usr/local/lib/python3.7/dist-packages (from scikit-learn->sklearn) (1.0.1)\n",
            "Requirement already satisfied: scipy>=0.17.0 in /usr/local/lib/python3.7/dist-packages (from scikit-learn->sklearn) (1.4.1)\n",
            "Requirement already satisfied: numpy>=1.11.0 in /usr/local/lib/python3.7/dist-packages (from scikit-learn->sklearn) (1.19.5)\n",
            "Requirement already satisfied: matplotlib in /usr/local/lib/python3.7/dist-packages (3.2.2)\n",
            "Requirement already satisfied: python-dateutil>=2.1 in /usr/local/lib/python3.7/dist-packages (from matplotlib) (2.8.2)\n",
            "Requirement already satisfied: kiwisolver>=1.0.1 in /usr/local/lib/python3.7/dist-packages (from matplotlib) (1.3.2)\n",
            "Requirement already satisfied: pyparsing!=2.0.4,!=2.1.2,!=2.1.6,>=2.0.1 in /usr/local/lib/python3.7/dist-packages (from matplotlib) (2.4.7)\n",
            "Requirement already satisfied: numpy>=1.11 in /usr/local/lib/python3.7/dist-packages (from matplotlib) (1.19.5)\n",
            "Requirement already satisfied: cycler>=0.10 in /usr/local/lib/python3.7/dist-packages (from matplotlib) (0.10.0)\n",
            "Requirement already satisfied: six in /usr/local/lib/python3.7/dist-packages (from cycler>=0.10->matplotlib) (1.15.0)\n",
            "Requirement already satisfied: seaborn in /usr/local/lib/python3.7/dist-packages (0.11.2)\n",
            "Requirement already satisfied: pandas>=0.23 in /usr/local/lib/python3.7/dist-packages (from seaborn) (1.1.5)\n",
            "Requirement already satisfied: scipy>=1.0 in /usr/local/lib/python3.7/dist-packages (from seaborn) (1.4.1)\n",
            "Requirement already satisfied: numpy>=1.15 in /usr/local/lib/python3.7/dist-packages (from seaborn) (1.19.5)\n",
            "Requirement already satisfied: matplotlib>=2.2 in /usr/local/lib/python3.7/dist-packages (from seaborn) (3.2.2)\n",
            "Requirement already satisfied: cycler>=0.10 in /usr/local/lib/python3.7/dist-packages (from matplotlib>=2.2->seaborn) (0.10.0)\n",
            "Requirement already satisfied: python-dateutil>=2.1 in /usr/local/lib/python3.7/dist-packages (from matplotlib>=2.2->seaborn) (2.8.2)\n",
            "Requirement already satisfied: kiwisolver>=1.0.1 in /usr/local/lib/python3.7/dist-packages (from matplotlib>=2.2->seaborn) (1.3.2)\n",
            "Requirement already satisfied: pyparsing!=2.0.4,!=2.1.2,!=2.1.6,>=2.0.1 in /usr/local/lib/python3.7/dist-packages (from matplotlib>=2.2->seaborn) (2.4.7)\n",
            "Requirement already satisfied: six in /usr/local/lib/python3.7/dist-packages (from cycler>=0.10->matplotlib>=2.2->seaborn) (1.15.0)\n",
            "Requirement already satisfied: pytz>=2017.2 in /usr/local/lib/python3.7/dist-packages (from pandas>=0.23->seaborn) (2018.9)\n"
          ]
        }
      ]
    },
    {
      "cell_type": "code",
      "metadata": {
        "colab": {
          "base_uri": "https://localhost:8080/"
        },
        "id": "qTbHar9Qrpq6",
        "outputId": "65d413f7-8545-4184-9445-d44ba5b2feba"
      },
      "source": [
        "%pylab inline\n",
        "%matplotlib inline\n",
        "\n",
        "\n",
        "# Data Analysis lib imports\n",
        "import pandas as pd\n",
        "import numpy as np\n",
        "\n",
        "# import ML libs\n",
        "from sklearn.linear_model import LinearRegression, Lasso, LassoCV, Ridge ,RidgeCV\n",
        "from sklearn.model_selection import train_test_split, cross_val_score ,KFold ,GridSearchCV\n",
        "from sklearn.preprocessing import StandardScaler, MinMaxScaler,PolynomialFeatures\n",
        "from sklearn.pipeline import make_pipeline , Pipeline\n",
        "\n",
        "# import visual libs\n",
        "import matplotlib.pyplot as plt\n",
        "import seaborn as sns"
      ],
      "execution_count": 3,
      "outputs": [
        {
          "output_type": "stream",
          "name": "stdout",
          "text": [
            "Populating the interactive namespace from numpy and matplotlib\n"
          ]
        }
      ]
    },
    {
      "cell_type": "markdown",
      "metadata": {
        "id": "1RDECgrPtJIs"
      },
      "source": [
        "# Reading file"
      ]
    },
    {
      "cell_type": "code",
      "metadata": {
        "id": "cB4gr7hAtQYL"
      },
      "source": [
        "df = pd.read_excel(\"All_Scribed_Data.xlsx\")\n",
        "df = df.drop(\"Unnamed: 0\",axis = 1)"
      ],
      "execution_count": 12,
      "outputs": []
    },
    {
      "cell_type": "code",
      "metadata": {
        "id": "AvifaaU6v_aj"
      },
      "source": [
        "num_col = np.array(df.select_dtypes([\"float64\",\"int64\"]).columns)"
      ],
      "execution_count": 13,
      "outputs": []
    },
    {
      "cell_type": "markdown",
      "metadata": {
        "id": "8LIviskLv2gP"
      },
      "source": [
        "# Feature ENG. target"
      ]
    },
    {
      "cell_type": "code",
      "metadata": {
        "id": "71TlTjM5vzks"
      },
      "source": [
        "# https://www.calculatorsoup.com/calculators/financial/discount-calculator.php\n",
        "df[\"discount_percentage\"] = ((df[\"Oregnal_price\"] - df[\"Discount_price\"])/df[\"Oregnal_price\"])*100"
      ],
      "execution_count": 14,
      "outputs": []
    },
    {
      "cell_type": "markdown",
      "metadata": {
        "id": "ff9BcoOXtlEo"
      },
      "source": [
        "# Data Cleaning before"
      ]
    },
    {
      "cell_type": "code",
      "metadata": {
        "id": "kPhTznA7t8Sz"
      },
      "source": [
        "df = df.dropna().reset_index()"
      ],
      "execution_count": 15,
      "outputs": []
    },
    {
      "cell_type": "markdown",
      "metadata": {
        "id": "3xi0Z2qSuD6Y"
      },
      "source": [
        "# MVP\n",
        "- Basemodel \n",
        "- Cross Valedation + KFold = average of the scores came from CV\n",
        "- plot for y and y_predict for train and val sets with Basemodel"
      ]
    },
    {
      "cell_type": "markdown",
      "metadata": {
        "id": "dvGFgXFEuUdD"
      },
      "source": [
        "## Beasline Model"
      ]
    },
    {
      "cell_type": "code",
      "metadata": {
        "id": "1QpznjsbuExJ"
      },
      "source": [
        "# split the data to val and test\n",
        "train, test = train_test_split(df, test_size = 0.2)\n",
        "train, val = train_test_split(train , test_size = 0.25)"
      ],
      "execution_count": 16,
      "outputs": []
    },
    {
      "cell_type": "code",
      "metadata": {
        "colab": {
          "base_uri": "https://localhost:8080/"
        },
        "id": "HeV7WkS1uZ8K",
        "outputId": "1a2f6abf-3e36-4d8e-b75f-f88719c8ea8f"
      },
      "source": [
        "# LR baseline model\n",
        "baseline_model = LinearRegression()\n",
        "baseline_model.fit(train[num_col], train[\"discount_percentage\"])\n",
        "\n",
        "\n",
        "print(\"training score :\", round(baseline_model.score(train[num_col], train[\"discount_percentage\"]) ,5))\n",
        "print(\"val score :\", round(baseline_model.score(val[num_col], val[\"discount_percentage\"]),5))"
      ],
      "execution_count": 17,
      "outputs": [
        {
          "output_type": "stream",
          "name": "stdout",
          "text": [
            "training score : 0.88038\n",
            "val score : 0.87838\n"
          ]
        }
      ]
    },
    {
      "cell_type": "markdown",
      "metadata": {
        "id": "RAlO1V2vufz2"
      },
      "source": [
        "## Cross Valedation + KFold"
      ]
    },
    {
      "cell_type": "code",
      "metadata": {
        "colab": {
          "base_uri": "https://localhost:8080/"
        },
        "id": "cMQJ75U-uhIh",
        "outputId": "6a676fc0-9d44-4cef-81e6-c75dcce21332"
      },
      "source": [
        "kf = KFold(n_splits=5, shuffle=True, random_state = 1000)\n",
        "\n",
        "print(\"all R^2: \", cross_val_score(baseline_model,train[num_col], train[\"discount_percentage\"], cv=kf, scoring='r2'))\n",
        "print(\"the avrage R^2: \",np.mean(cross_val_score(baseline_model,train[num_col], train[\"discount_percentage\"], cv=kf, scoring='r2')))"
      ],
      "execution_count": 18,
      "outputs": [
        {
          "output_type": "stream",
          "name": "stdout",
          "text": [
            "all R^2:  [0.86726928 0.88230042 0.88127005 0.88402708 0.88584258]\n",
            "the avrage R^2:  0.8801418821921654\n"
          ]
        }
      ]
    },
    {
      "cell_type": "markdown",
      "metadata": {
        "id": "xe1PDXM5ukus"
      },
      "source": [
        "## Baseline Preformence Plots"
      ]
    },
    {
      "cell_type": "code",
      "metadata": {
        "colab": {
          "base_uri": "https://localhost:8080/",
          "height": 313
        },
        "id": "a5PuHM9LuqqC",
        "outputId": "8a1f9bb9-2594-4ac1-b4e3-5594c88db381"
      },
      "source": [
        "plt.scatter(train[\"discount_percentage\"], baseline_model.predict(train[num_col]), alpha=0.2)\n",
        "plt.xlabel(\"true discount_percentage\")\n",
        "plt.ylabel(\"predict discount_percentage\")\n",
        "plt.title(\"Baseline model prediction on train set\")\n",
        "plt.plot([30, 90], [40, 160])"
      ],
      "execution_count": 19,
      "outputs": [
        {
          "output_type": "execute_result",
          "data": {
            "text/plain": [
              "[<matplotlib.lines.Line2D at 0x7f1de991d4d0>]"
            ]
          },
          "metadata": {},
          "execution_count": 19
        },
        {
          "output_type": "display_data",
          "data": {
            "image/png": "[encoded data removed]",
            "text/plain": [
              "<Figure size 432x288 with 1 Axes>"
            ]
          },
          "metadata": {
            "needs_background": "light"
          }
        }
      ]
    },
    {
      "cell_type": "code",
      "metadata": {
        "colab": {
          "base_uri": "https://localhost:8080/",
          "height": 313
        },
        "id": "TsEoVKSuurXH",
        "outputId": "0c4dc99d-dd3d-4de1-998f-c503f02bb5d5"
      },
      "source": [
        "plt.scatter(val[\"discount_percentage\"], baseline_model.predict(val[num_col]), alpha=0.2)\n",
        "plt.xlabel(\"true discount_percentage\")\n",
        "plt.ylabel(\"predict discount_percentage\")\n",
        "plt.title(\"Baseline model prediction on val set\")\n",
        "plt.plot([30, 90], [40, 160])"
      ],
      "execution_count": 20,
      "outputs": [
        {
          "output_type": "execute_result",
          "data": {
            "text/plain": [
              "[<matplotlib.lines.Line2D at 0x7f1de8f8fcd0>]"
            ]
          },
          "metadata": {},
          "execution_count": 20
        },
        {
          "output_type": "display_data",
          "data": {
            "image/png": "[encoded data removed]",
            "text/plain": [
              "<Figure size 432x288 with 1 Axes>"
            ]
          },
          "metadata": {
            "needs_background": "light"
          }
        }
      ]
    }
  ]
}